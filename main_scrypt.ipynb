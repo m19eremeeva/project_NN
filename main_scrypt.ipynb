{
  "nbformat": 4,
  "nbformat_minor": 0,
  "metadata": {
    "colab": {
      "provenance": []
    },
    "kernelspec": {
      "name": "python3",
      "display_name": "Python 3"
    },
    "language_info": {
      "name": "python"
    }
  },
  "cells": [
    {
      "cell_type": "code",
      "execution_count": 2,
      "metadata": {
        "colab": {
          "base_uri": "https://localhost:8080/"
        },
        "id": "OHzWRn43v62R",
        "outputId": "18a422b3-207e-43f7-de3f-416d57cb9d7d"
      },
      "outputs": [
        {
          "output_type": "stream",
          "name": "stdout",
          "text": [
            "/content/project_NN\n"
          ]
        }
      ],
      "source": [
        "!git clone https://github.com/m19eremeeva/project_NN.git\n",
        "!pip install rdkit\n",
        "%cd /content/project_NN"
      ]
    },
    {
      "cell_type": "code",
      "source": [
        "import pandas as pd\n",
        "import torch\n",
        "from pretrain_trfm import TrfmSeq2seq\n",
        "from build_vocab import WordVocab\n",
        "from utils import split"
      ],
      "metadata": {
        "id": "PGNN5S1_BsJQ"
      },
      "execution_count": 5,
      "outputs": []
    },
    {
      "cell_type": "code",
      "source": [
        "#(don't run if u already have vocab.pkl in this dir)\n",
        "#chembl_24_chemreps.txt has too big to upload it to github\n",
        "#chembl_24_chemreps.txt was taken from https://ftp.ebi.ac.uk/pub/databases/chembl/ChEMBLdb/releases/chembl_24_1/chembl_24_1_chemreps.txt.gz\n",
        "df = pd.read_table('chembl_24_chemreps.txt')\n",
        "df.head()"
      ],
      "metadata": {
        "id": "d4Gjyd25wC9V",
        "colab": {
          "base_uri": "https://localhost:8080/",
          "height": 293
        },
        "outputId": "74027034-83d8-4f60-f3c9-711844101f3e"
      },
      "execution_count": null,
      "outputs": [
        {
          "output_type": "execute_result",
          "data": {
            "text/plain": [
              "      chembl_id                                   canonical_smiles  \\\n",
              "0  CHEMBL153534                        Cc1cc(cn1C)c2csc(N=C(N)N)n2   \n",
              "1  CHEMBL440060  CC[C@H](C)[C@H](NC(=O)[C@H](CC(C)C)NC(=O)[C@@H...   \n",
              "2  CHEMBL440245  CCCC[C@H](NC(=O)[C@H](CC(C)C)NC(=O)[C@H](CCCCN...   \n",
              "3  CHEMBL440249  CC(C)C[C@@H]1NC(=O)CNC(=O)[C@@H](NC(=O)[C@H](N...   \n",
              "4  CHEMBL405398             Brc1cccc(Nc2ncnc3ccncc23)c1NCCN4CCOCC4   \n",
              "\n",
              "                                      standard_inchi  \\\n",
              "0  InChI=1S/C10H13N5S/c1-6-3-7(4-15(6)2)8-5-16-10...   \n",
              "1  InChI=1S/C123H212N44O34S/c1-19-63(12)96(164-11...   \n",
              "2  InChI=1S/C160H268N50O41/c1-23-27-41-95-134(228...   \n",
              "3  InChI=1S/C124H154ClN21O39/c1-57(2)48-81-112(17...   \n",
              "4  InChI=1S/C19H21BrN6O/c20-15-2-1-3-17(18(15)22-...   \n",
              "\n",
              "            standard_inchi_key  \n",
              "0  MFRNFCWYPYSFQQ-UHFFFAOYSA-N  \n",
              "1  RSEQNZQKBMRQNM-VRGFNVLHSA-N  \n",
              "2  FTKBTEIKPOYCEX-OZSLQWTKSA-N  \n",
              "3  UYSXXKGACMHPIM-KFGDMSGDSA-N  \n",
              "4  VDSXZXJEWIWBCG-UHFFFAOYSA-N  "
            ],
            "text/html": [
              "\n",
              "  <div id=\"df-37015d75-639f-4388-94a0-2466e2cac381\" class=\"colab-df-container\">\n",
              "    <div>\n",
              "<style scoped>\n",
              "    .dataframe tbody tr th:only-of-type {\n",
              "        vertical-align: middle;\n",
              "    }\n",
              "\n",
              "    .dataframe tbody tr th {\n",
              "        vertical-align: top;\n",
              "    }\n",
              "\n",
              "    .dataframe thead th {\n",
              "        text-align: right;\n",
              "    }\n",
              "</style>\n",
              "<table border=\"1\" class=\"dataframe\">\n",
              "  <thead>\n",
              "    <tr style=\"text-align: right;\">\n",
              "      <th></th>\n",
              "      <th>chembl_id</th>\n",
              "      <th>canonical_smiles</th>\n",
              "      <th>standard_inchi</th>\n",
              "      <th>standard_inchi_key</th>\n",
              "    </tr>\n",
              "  </thead>\n",
              "  <tbody>\n",
              "    <tr>\n",
              "      <th>0</th>\n",
              "      <td>CHEMBL153534</td>\n",
              "      <td>Cc1cc(cn1C)c2csc(N=C(N)N)n2</td>\n",
              "      <td>InChI=1S/C10H13N5S/c1-6-3-7(4-15(6)2)8-5-16-10...</td>\n",
              "      <td>MFRNFCWYPYSFQQ-UHFFFAOYSA-N</td>\n",
              "    </tr>\n",
              "    <tr>\n",
              "      <th>1</th>\n",
              "      <td>CHEMBL440060</td>\n",
              "      <td>CC[C@H](C)[C@H](NC(=O)[C@H](CC(C)C)NC(=O)[C@@H...</td>\n",
              "      <td>InChI=1S/C123H212N44O34S/c1-19-63(12)96(164-11...</td>\n",
              "      <td>RSEQNZQKBMRQNM-VRGFNVLHSA-N</td>\n",
              "    </tr>\n",
              "    <tr>\n",
              "      <th>2</th>\n",
              "      <td>CHEMBL440245</td>\n",
              "      <td>CCCC[C@H](NC(=O)[C@H](CC(C)C)NC(=O)[C@H](CCCCN...</td>\n",
              "      <td>InChI=1S/C160H268N50O41/c1-23-27-41-95-134(228...</td>\n",
              "      <td>FTKBTEIKPOYCEX-OZSLQWTKSA-N</td>\n",
              "    </tr>\n",
              "    <tr>\n",
              "      <th>3</th>\n",
              "      <td>CHEMBL440249</td>\n",
              "      <td>CC(C)C[C@@H]1NC(=O)CNC(=O)[C@@H](NC(=O)[C@H](N...</td>\n",
              "      <td>InChI=1S/C124H154ClN21O39/c1-57(2)48-81-112(17...</td>\n",
              "      <td>UYSXXKGACMHPIM-KFGDMSGDSA-N</td>\n",
              "    </tr>\n",
              "    <tr>\n",
              "      <th>4</th>\n",
              "      <td>CHEMBL405398</td>\n",
              "      <td>Brc1cccc(Nc2ncnc3ccncc23)c1NCCN4CCOCC4</td>\n",
              "      <td>InChI=1S/C19H21BrN6O/c20-15-2-1-3-17(18(15)22-...</td>\n",
              "      <td>VDSXZXJEWIWBCG-UHFFFAOYSA-N</td>\n",
              "    </tr>\n",
              "  </tbody>\n",
              "</table>\n",
              "</div>\n",
              "    <div class=\"colab-df-buttons\">\n",
              "\n",
              "  <div class=\"colab-df-container\">\n",
              "    <button class=\"colab-df-convert\" onclick=\"convertToInteractive('df-37015d75-639f-4388-94a0-2466e2cac381')\"\n",
              "            title=\"Convert this dataframe to an interactive table.\"\n",
              "            style=\"display:none;\">\n",
              "\n",
              "  <svg xmlns=\"http://www.w3.org/2000/svg\" height=\"24px\" viewBox=\"0 -960 960 960\">\n",
              "    <path d=\"M120-120v-720h720v720H120Zm60-500h600v-160H180v160Zm220 220h160v-160H400v160Zm0 220h160v-160H400v160ZM180-400h160v-160H180v160Zm440 0h160v-160H620v160ZM180-180h160v-160H180v160Zm440 0h160v-160H620v160Z\"/>\n",
              "  </svg>\n",
              "    </button>\n",
              "\n",
              "  <style>\n",
              "    .colab-df-container {\n",
              "      display:flex;\n",
              "      gap: 12px;\n",
              "    }\n",
              "\n",
              "    .colab-df-convert {\n",
              "      background-color: #E8F0FE;\n",
              "      border: none;\n",
              "      border-radius: 50%;\n",
              "      cursor: pointer;\n",
              "      display: none;\n",
              "      fill: #1967D2;\n",
              "      height: 32px;\n",
              "      padding: 0 0 0 0;\n",
              "      width: 32px;\n",
              "    }\n",
              "\n",
              "    .colab-df-convert:hover {\n",
              "      background-color: #E2EBFA;\n",
              "      box-shadow: 0px 1px 2px rgba(60, 64, 67, 0.3), 0px 1px 3px 1px rgba(60, 64, 67, 0.15);\n",
              "      fill: #174EA6;\n",
              "    }\n",
              "\n",
              "    .colab-df-buttons div {\n",
              "      margin-bottom: 4px;\n",
              "    }\n",
              "\n",
              "    [theme=dark] .colab-df-convert {\n",
              "      background-color: #3B4455;\n",
              "      fill: #D2E3FC;\n",
              "    }\n",
              "\n",
              "    [theme=dark] .colab-df-convert:hover {\n",
              "      background-color: #434B5C;\n",
              "      box-shadow: 0px 1px 3px 1px rgba(0, 0, 0, 0.15);\n",
              "      filter: drop-shadow(0px 1px 2px rgba(0, 0, 0, 0.3));\n",
              "      fill: #FFFFFF;\n",
              "    }\n",
              "  </style>\n",
              "\n",
              "    <script>\n",
              "      const buttonEl =\n",
              "        document.querySelector('#df-37015d75-639f-4388-94a0-2466e2cac381 button.colab-df-convert');\n",
              "      buttonEl.style.display =\n",
              "        google.colab.kernel.accessAllowed ? 'block' : 'none';\n",
              "\n",
              "      async function convertToInteractive(key) {\n",
              "        const element = document.querySelector('#df-37015d75-639f-4388-94a0-2466e2cac381');\n",
              "        const dataTable =\n",
              "          await google.colab.kernel.invokeFunction('convertToInteractive',\n",
              "                                                    [key], {});\n",
              "        if (!dataTable) return;\n",
              "\n",
              "        const docLinkHtml = 'Like what you see? Visit the ' +\n",
              "          '<a target=\"_blank\" href=https://colab.research.google.com/notebooks/data_table.ipynb>data table notebook</a>'\n",
              "          + ' to learn more about interactive tables.';\n",
              "        element.innerHTML = '';\n",
              "        dataTable['output_type'] = 'display_data';\n",
              "        await google.colab.output.renderOutput(dataTable, element);\n",
              "        const docLink = document.createElement('div');\n",
              "        docLink.innerHTML = docLinkHtml;\n",
              "        element.appendChild(docLink);\n",
              "      }\n",
              "    </script>\n",
              "  </div>\n",
              "\n",
              "\n",
              "<div id=\"df-c54a10a4-880b-42d4-8b3d-40a46729fb58\">\n",
              "  <button class=\"colab-df-quickchart\" onclick=\"quickchart('df-c54a10a4-880b-42d4-8b3d-40a46729fb58')\"\n",
              "            title=\"Suggest charts.\"\n",
              "            style=\"display:none;\">\n",
              "\n",
              "<svg xmlns=\"http://www.w3.org/2000/svg\" height=\"24px\"viewBox=\"0 0 24 24\"\n",
              "     width=\"24px\">\n",
              "    <g>\n",
              "        <path d=\"M19 3H5c-1.1 0-2 .9-2 2v14c0 1.1.9 2 2 2h14c1.1 0 2-.9 2-2V5c0-1.1-.9-2-2-2zM9 17H7v-7h2v7zm4 0h-2V7h2v10zm4 0h-2v-4h2v4z\"/>\n",
              "    </g>\n",
              "</svg>\n",
              "  </button>\n",
              "\n",
              "<style>\n",
              "  .colab-df-quickchart {\n",
              "      --bg-color: #E8F0FE;\n",
              "      --fill-color: #1967D2;\n",
              "      --hover-bg-color: #E2EBFA;\n",
              "      --hover-fill-color: #174EA6;\n",
              "      --disabled-fill-color: #AAA;\n",
              "      --disabled-bg-color: #DDD;\n",
              "  }\n",
              "\n",
              "  [theme=dark] .colab-df-quickchart {\n",
              "      --bg-color: #3B4455;\n",
              "      --fill-color: #D2E3FC;\n",
              "      --hover-bg-color: #434B5C;\n",
              "      --hover-fill-color: #FFFFFF;\n",
              "      --disabled-bg-color: #3B4455;\n",
              "      --disabled-fill-color: #666;\n",
              "  }\n",
              "\n",
              "  .colab-df-quickchart {\n",
              "    background-color: var(--bg-color);\n",
              "    border: none;\n",
              "    border-radius: 50%;\n",
              "    cursor: pointer;\n",
              "    display: none;\n",
              "    fill: var(--fill-color);\n",
              "    height: 32px;\n",
              "    padding: 0;\n",
              "    width: 32px;\n",
              "  }\n",
              "\n",
              "  .colab-df-quickchart:hover {\n",
              "    background-color: var(--hover-bg-color);\n",
              "    box-shadow: 0 1px 2px rgba(60, 64, 67, 0.3), 0 1px 3px 1px rgba(60, 64, 67, 0.15);\n",
              "    fill: var(--button-hover-fill-color);\n",
              "  }\n",
              "\n",
              "  .colab-df-quickchart-complete:disabled,\n",
              "  .colab-df-quickchart-complete:disabled:hover {\n",
              "    background-color: var(--disabled-bg-color);\n",
              "    fill: var(--disabled-fill-color);\n",
              "    box-shadow: none;\n",
              "  }\n",
              "\n",
              "  .colab-df-spinner {\n",
              "    border: 2px solid var(--fill-color);\n",
              "    border-color: transparent;\n",
              "    border-bottom-color: var(--fill-color);\n",
              "    animation:\n",
              "      spin 1s steps(1) infinite;\n",
              "  }\n",
              "\n",
              "  @keyframes spin {\n",
              "    0% {\n",
              "      border-color: transparent;\n",
              "      border-bottom-color: var(--fill-color);\n",
              "      border-left-color: var(--fill-color);\n",
              "    }\n",
              "    20% {\n",
              "      border-color: transparent;\n",
              "      border-left-color: var(--fill-color);\n",
              "      border-top-color: var(--fill-color);\n",
              "    }\n",
              "    30% {\n",
              "      border-color: transparent;\n",
              "      border-left-color: var(--fill-color);\n",
              "      border-top-color: var(--fill-color);\n",
              "      border-right-color: var(--fill-color);\n",
              "    }\n",
              "    40% {\n",
              "      border-color: transparent;\n",
              "      border-right-color: var(--fill-color);\n",
              "      border-top-color: var(--fill-color);\n",
              "    }\n",
              "    60% {\n",
              "      border-color: transparent;\n",
              "      border-right-color: var(--fill-color);\n",
              "    }\n",
              "    80% {\n",
              "      border-color: transparent;\n",
              "      border-right-color: var(--fill-color);\n",
              "      border-bottom-color: var(--fill-color);\n",
              "    }\n",
              "    90% {\n",
              "      border-color: transparent;\n",
              "      border-bottom-color: var(--fill-color);\n",
              "    }\n",
              "  }\n",
              "</style>\n",
              "\n",
              "  <script>\n",
              "    async function quickchart(key) {\n",
              "      const quickchartButtonEl =\n",
              "        document.querySelector('#' + key + ' button');\n",
              "      quickchartButtonEl.disabled = true;  // To prevent multiple clicks.\n",
              "      quickchartButtonEl.classList.add('colab-df-spinner');\n",
              "      try {\n",
              "        const charts = await google.colab.kernel.invokeFunction(\n",
              "            'suggestCharts', [key], {});\n",
              "      } catch (error) {\n",
              "        console.error('Error during call to suggestCharts:', error);\n",
              "      }\n",
              "      quickchartButtonEl.classList.remove('colab-df-spinner');\n",
              "      quickchartButtonEl.classList.add('colab-df-quickchart-complete');\n",
              "    }\n",
              "    (() => {\n",
              "      let quickchartButtonEl =\n",
              "        document.querySelector('#df-c54a10a4-880b-42d4-8b3d-40a46729fb58 button');\n",
              "      quickchartButtonEl.style.display =\n",
              "        google.colab.kernel.accessAllowed ? 'block' : 'none';\n",
              "    })();\n",
              "  </script>\n",
              "</div>\n",
              "    </div>\n",
              "  </div>\n"
            ]
          },
          "metadata": {},
          "execution_count": 14
        }
      ]
    },
    {
      "cell_type": "code",
      "source": [
        "# deleted smiles longer than 100 characters (don't run if u already have vocab.pkl in this dir)\n",
        "smiles  = df['canonical_smiles'].values\n",
        "to_drop = []\n",
        "for i,sm in enumerate(smiles):\n",
        "    if len(sm)>100:\n",
        "        to_drop.append(i)\n",
        "    if df['chembl_id'][i]=='CHEMBL1201364':\n",
        "        to_drop.append(i)\n",
        "print(len(to_drop))"
      ],
      "metadata": {
        "colab": {
          "base_uri": "https://localhost:8080/"
        },
        "id": "LFmK0TpwEha2",
        "outputId": "48f054dd-9991-4142-f706-1c89375a9032"
      },
      "execution_count": null,
      "outputs": [
        {
          "output_type": "stream",
          "name": "stdout",
          "text": [
            "97738\n"
          ]
        }
      ]
    },
    {
      "cell_type": "code",
      "source": [
        "#saved smiles to csv (don't run if u already have vocab.pkl in this dir)\n",
        "df_dropped = df.drop(to_drop)\n",
        "df_dropped = df_dropped.drop(['standard_inchi', 'standard_inchi_key'], axis=1)\n",
        "L = len(df_dropped)\n",
        "print(L)\n",
        "df_dropped.to_csv('chembl24.csv', index = False)"
      ],
      "metadata": {
        "colab": {
          "base_uri": "https://localhost:8080/"
        },
        "id": "NiljZ-_iFLPo",
        "outputId": "94305550-4099-4f2e-9bc7-2e36e0031e8a"
      },
      "execution_count": null,
      "outputs": [
        {
          "output_type": "stream",
          "name": "stdout",
          "text": [
            "1722297\n"
          ]
        }
      ]
    },
    {
      "cell_type": "code",
      "source": [
        "#build vocab (don't run if u already have vocab.pkl in this dir)\n",
        "!python 'build_corpus.py'\n",
        "!python 'build_vocab.py'"
      ],
      "metadata": {
        "colab": {
          "base_uri": "https://localhost:8080/"
        },
        "id": "YGvp9AovXUAU",
        "outputId": "7c3b2239-dfe6-43e7-eb99-035b08f6f539"
      },
      "execution_count": null,
      "outputs": [
        {
          "output_type": "stream",
          "name": "stdout",
          "text": [
            "100% 1722297/1722297 [01:45<00:00, 16334.77it/s]\n",
            "Built a corpus file!\n",
            "Building Vocab\n",
            "VOCAB SIZE: 45\n"
          ]
        }
      ]
    },
    {
      "cell_type": "code",
      "source": [
        "pad_index = 0\n",
        "unk_index = 1\n",
        "eos_index = 2\n",
        "sos_index = 3\n",
        "mask_index = 4\n",
        "\n",
        "vocab = WordVocab.load_vocab('vocab.pkl')\n",
        "\n",
        "trfm = TrfmSeq2seq(len(vocab), 256, len(vocab), 4)\n",
        "trfm.load_state_dict(torch.load('trfm_12_23000.pkl', map_location=torch.device('cpu')))\n",
        "trfm.eval()\n",
        "print('Total parameters:', sum(p.numel() for p in trfm.parameters()))"
      ],
      "metadata": {
        "colab": {
          "base_uri": "https://localhost:8080/"
        },
        "id": "WS6J_H59fkUc",
        "outputId": "e2721ae4-6427-4a2e-e3f4-fa2279f32396"
      },
      "execution_count": 6,
      "outputs": [
        {
          "output_type": "stream",
          "name": "stdout",
          "text": [
            "Total parameters: 4245037\n"
          ]
        }
      ]
    },
    {
      "cell_type": "code",
      "source": [
        "def get_inputs(sm):\n",
        "    seq_len = 220\n",
        "    sm = sm.split()\n",
        "    if len(sm)>218:\n",
        "        print('SMILES is too long ({:d})'.format(len(sm)))\n",
        "        sm = sm[:109]+sm[-109:]\n",
        "    ids = [vocab.stoi.get(token, unk_index) for token in sm]\n",
        "    ids = [sos_index] + ids + [eos_index]\n",
        "    seg = [1]*len(ids)\n",
        "    padding = [pad_index]*(seq_len - len(ids))\n",
        "    ids.extend(padding), seg.extend(padding)\n",
        "    return ids, seg\n",
        "\n",
        "def get_array(smiles):\n",
        "    x_id, x_seg = [], []\n",
        "    for sm in smiles:\n",
        "        a,b = get_inputs(sm)\n",
        "        x_id.append(a)\n",
        "        x_seg.append(b)\n",
        "    return torch.tensor(x_id), torch.tensor(x_seg)"
      ],
      "metadata": {
        "id": "Rmn3PYqTibqq"
      },
      "execution_count": 7,
      "outputs": []
    },
    {
      "cell_type": "code",
      "source": [
        "#load toxicity data\n",
        "smiles = pd.read_csv('names_smiles.csv', header = None)[1]\n",
        "labels = pd.read_csv('names_labels.csv', header = None)[1]"
      ],
      "metadata": {
        "id": "j6t5yMFEDNXW"
      },
      "execution_count": 8,
      "outputs": []
    },
    {
      "cell_type": "code",
      "source": [
        "# create embeddings\n",
        "x_split = [split(sm) for sm in smiles.values]\n",
        "xid, xseg = get_array(x_split)\n",
        "X = trfm.encode(torch.t(xid))[:,:256]\n",
        "print(X.shape)\n"
      ],
      "metadata": {
        "colab": {
          "base_uri": "https://localhost:8080/"
        },
        "id": "3aivwR-x8VXS",
        "outputId": "789095b7-9b94-4deb-a878-9ec96a8d91be"
      },
      "execution_count": 9,
      "outputs": [
        {
          "output_type": "stream",
          "name": "stdout",
          "text": [
            "SMILES is too long (224)\n",
            "SMILES is too long (260)\n",
            "SMILES is too long (304)\n",
            "SMILES is too long (257)\n",
            "SMILES is too long (284)\n",
            "SMILES is too long (244)\n",
            "SMILES is too long (245)\n",
            "SMILES is too long (280)\n",
            "SMILES is too long (307)\n",
            "SMILES is too long (292)\n",
            "SMILES is too long (325)\n",
            "SMILES is too long (289)\n",
            "SMILES is too long (255)\n",
            "SMILES is too long (257)\n",
            "SMILES is too long (307)\n",
            "SMILES is too long (243)\n",
            "SMILES is too long (234)\n",
            "SMILES is too long (237)\n",
            "SMILES is too long (298)\n",
            "SMILES is too long (309)\n",
            "SMILES is too long (244)\n",
            "SMILES is too long (289)\n",
            "SMILES is too long (224)\n",
            "SMILES is too long (282)\n",
            "SMILES is too long (243)\n",
            "SMILES is too long (282)\n",
            "SMILES is too long (224)\n",
            "SMILES is too long (311)\n",
            "SMILES is too long (378)\n",
            "SMILES is too long (249)\n",
            "SMILES is too long (243)\n",
            "SMILES is too long (260)\n",
            "SMILES is too long (236)\n",
            "There are 7697 molecules. It will take a little time.\n",
            "(7697, 256)\n"
          ]
        }
      ]
    },
    {
      "cell_type": "code",
      "source": [
        "import torch.nn as nn\n",
        "import numpy as np\n",
        "from sklearn.preprocessing import StandardScaler\n",
        "from sklearn.model_selection import train_test_split\n",
        "\n",
        "y = np.array(labels)\n",
        "X_train, X_test, y_train, y_test = train_test_split(X, y, test_size=0.2, random_state=42)\n",
        "\n",
        "# scale features\n",
        "sc = StandardScaler()\n",
        "X_train = sc.fit_transform(X_train)\n",
        "X_test = sc.transform(X_test)\n",
        "\n",
        "# convert to torch tensors\n",
        "X_train = torch.from_numpy(X_train.astype(np.float32))\n",
        "X_test = torch.from_numpy(X_test.astype(np.float32))\n",
        "y_train = torch.from_numpy(y_train.astype(np.float32))\n",
        "y_test = torch.from_numpy(y_test.astype(np.float32))\n",
        "\n",
        "y_train = y_train.view(y_train.shape[0], 1)\n",
        "y_test = y_test.view(y_test.shape[0], 1)"
      ],
      "metadata": {
        "id": "UZIKBhZeBIgH"
      },
      "execution_count": 15,
      "outputs": []
    },
    {
      "cell_type": "code",
      "source": [
        "# define the model\n",
        "class LogisticRegression(nn.Module):\n",
        "  def __init__(self, n_input_features):\n",
        "    super(LogisticRegression, self).__init__()\n",
        "    self.linear = nn.Linear(n_input_features, 10)\n",
        "    self.relu = nn.ReLU()\n",
        "    self.linear2 = nn.Linear(10, 1)\n",
        "\n",
        "  def forward(self, x):\n",
        "    out = self.linear(x)\n",
        "    out = self.relu(out)\n",
        "    out = self.linear2(out)\n",
        "    y_predicted = torch.sigmoid(out)\n",
        "    return y_predicted\n",
        "\n",
        "model = LogisticRegression(X_train.shape[1])"
      ],
      "metadata": {
        "id": "GebSXQ7FBIjU"
      },
      "execution_count": 16,
      "outputs": []
    },
    {
      "cell_type": "code",
      "source": [
        "# loss and optimizer\n",
        "learning_rate = 0.01\n",
        "criterion = nn.BCELoss()\n",
        "optimizer = torch.optim.SGD(model.parameters(), lr=learning_rate)"
      ],
      "metadata": {
        "id": "ZWPjshAoJYEm"
      },
      "execution_count": 17,
      "outputs": []
    },
    {
      "cell_type": "code",
      "source": [
        "# training\n",
        "num_epochs = 10000\n",
        "for epoch in range(num_epochs):\n",
        "  # forward pass and loss\n",
        "  y_predicted = model(X_train)\n",
        "  loss = criterion(y_predicted, y_train)\n",
        "\n",
        "  # bacward pass\n",
        "  loss.backward()\n",
        "\n",
        "  # updates\n",
        "  optimizer.step()\n",
        "\n",
        "  # zero gradients\n",
        "  optimizer.zero_grad()\n",
        "  if (epoch + 1) % 1000 == 0:\n",
        "    print(f'epoch: {epoch+1}, loss: {loss.item():.4f}')"
      ],
      "metadata": {
        "colab": {
          "base_uri": "https://localhost:8080/"
        },
        "id": "7zG1qxz_JvYF",
        "outputId": "36d06e30-d29f-4a9b-806f-43d2951a2e5a"
      },
      "execution_count": 18,
      "outputs": [
        {
          "output_type": "stream",
          "name": "stdout",
          "text": [
            "epoch: 1000, loss: 0.3247\n",
            "epoch: 2000, loss: 0.3151\n",
            "epoch: 3000, loss: 0.3093\n",
            "epoch: 4000, loss: 0.3045\n",
            "epoch: 5000, loss: 0.3004\n",
            "epoch: 6000, loss: 0.2968\n",
            "epoch: 7000, loss: 0.2935\n",
            "epoch: 8000, loss: 0.2904\n",
            "epoch: 9000, loss: 0.2875\n",
            "epoch: 10000, loss: 0.2847\n"
          ]
        }
      ]
    },
    {
      "cell_type": "code",
      "source": [
        "# accuracy check\n",
        "with torch.no_grad():\n",
        "  y_predicted = model(X_test)\n",
        "  y_predicted_cls = y_predicted.round()\n",
        "  acc = y_predicted_cls.eq(y_test).sum() / float(y_test.shape[0])\n",
        "  print(f'accuracy = {acc:.4f}')"
      ],
      "metadata": {
        "colab": {
          "base_uri": "https://localhost:8080/"
        },
        "id": "iiWN-0RjJcSy",
        "outputId": "454a21b9-de66-4513-fbd6-6bd7ef32fca1"
      },
      "execution_count": 19,
      "outputs": [
        {
          "output_type": "stream",
          "name": "stdout",
          "text": [
            "accuracy = 0.8955\n"
          ]
        }
      ]
    },
    {
      "cell_type": "code",
      "source": [
        "from sklearn.metrics import classification_report\n",
        "print(classification_report(y_test, y_predicted_cls, target_names = ['Non-toxic', 'Toxic']))"
      ],
      "metadata": {
        "colab": {
          "base_uri": "https://localhost:8080/"
        },
        "id": "LggMnyycajfb",
        "outputId": "4f406226-31fd-4194-c863-577c0478151e"
      },
      "execution_count": 22,
      "outputs": [
        {
          "output_type": "stream",
          "name": "stdout",
          "text": [
            "              precision    recall  f1-score   support\n",
            "\n",
            "   Non-toxic       0.90      0.99      0.94      1355\n",
            "       Toxic       0.73      0.21      0.32       185\n",
            "\n",
            "    accuracy                           0.90      1540\n",
            "   macro avg       0.82      0.60      0.63      1540\n",
            "weighted avg       0.88      0.90      0.87      1540\n",
            "\n"
          ]
        }
      ]
    }
  ]
}